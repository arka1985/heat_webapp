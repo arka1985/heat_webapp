{
 "cells": [
  {
   "cell_type": "code",
   "execution_count": 1,
   "metadata": {},
   "outputs": [],
   "source": [
    "from tkinter import *\n",
    "from meteocalc import Temp, dew_point, heat_index, wind_chill, feels_like\n",
    "class App(Tk):\n",
    "    def __init__(self):\n",
    "        self.root = Tk()\n",
    "        self.root.title(\"Heat Index Calculator\")\n",
    "        Tk.__init__(self)\n",
    "\n",
    "        # Sets a label and entry field into the window for weight, height in\n",
    "        # feet, and height in inches\n",
    "        self.label = Label(self.root, text=\"Enter Current Environmental Temperature in Fahrenheit\").pack()\n",
    "        self.lbs = StringVar()\n",
    "        Entry(self.root, textvariable=self.lbs).pack()\n",
    "\n",
    "        self.label = Label(self.root, text=\"Enter Current Relative Humidity.\").pack()\n",
    "        self.feet = StringVar()\n",
    "        Entry(self.root, textvariable=self.feet).pack()\n",
    "\n",
    "        # Sets a button and label to click and calculate BMI\n",
    "        self.buttontext = StringVar()\n",
    "        Button(self.root, textvariable=self.buttontext, command=self.calculate).pack()\n",
    "        self.buttontext.set(\"Calculate\")\n",
    "\n",
    "        # Sets bmi_num to a StringVar so that when it is changed, the label will\n",
    "        # update\n",
    "        self.bmi_num = StringVar()\n",
    "        Label(self.root, textvariable=self.bmi_num).pack()\n",
    "\n",
    "        # Same thing here\n",
    "        self.bmi_text = StringVar()\n",
    "        Label(self.root, textvariable=self.bmi_text).pack()\n",
    "\n",
    "        self.root.mainloop()\n",
    "\n",
    "    def calculate(self):\n",
    "        # Retrieves all necessary information to calculate BMI\n",
    "        weight = float(self.lbs.get())\n",
    "        feet = float(self.feet.get())\n",
    "        bmi = float(heat_index(temperature=int(weight), humidity=int(feet)))\n",
    "        # Updates the status label\n",
    "        self.bmi_num.set(\"Current Heat Index is %.2f\" % bmi)\n",
    "        if bmi < 80:\n",
    "            self.bmi_text.set(\"With in Normal Limit\")\n",
    "        if 80 <= bmi < 90:\n",
    "            self.bmi_text.set(\"Caution:Fatigue possible with prolonged exposure and/or physical activity\")\n",
    "        if 90 <= bmi < 103:\n",
    "            self.bmi_text.set(\"Extreme Caution: Heat stroke, heat cramps, or heat exhaustion possible with prolonged exposure and/or physical activity\")\n",
    "        if 103<= bmi < 125:\n",
    "            self.bmi_text.set(\"Danger:Heat cramps or heat exhaustion likely, and heat stroke possible with prolonged exposure and/or physical activity\")\n",
    "        if bmi >= 125:\n",
    "            self.bmi_text.set(\"Extreme Danger:Heat stroke highly likely\")\n",
    "App()            "
   ]
  }
 ],
 "metadata": {
  "hide_input": false,
  "kernelspec": {
   "display_name": "Python 3",
   "language": "python",
   "name": "python3"
  },
  "language_info": {
   "codemirror_mode": {
    "name": "ipython",
    "version": 3
   },
   "file_extension": ".py",
   "mimetype": "text/x-python",
   "name": "python",
   "nbconvert_exporter": "python",
   "pygments_lexer": "ipython3",
   "version": "3.6.9"
  }
 },
 "nbformat": 4,
 "nbformat_minor": 2
}
